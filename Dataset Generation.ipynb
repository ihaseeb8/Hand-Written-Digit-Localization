{
 "cells": [
  {
   "cell_type": "markdown",
   "id": "11f67b36-4e1a-435b-9711-cc898ecf51aa",
   "metadata": {},
   "source": [
    "## 1. Importing Required Libraries"
   ]
  },
  {
   "cell_type": "code",
   "execution_count": 1,
   "id": "1d4f3016-bb8d-43b4-b892-05453e07e987",
   "metadata": {},
   "outputs": [],
   "source": [
    "import numpy as np\n",
    "import matplotlib.pyplot as plt\n",
    "from tqdm import tqdm\n",
    "import cv2\n",
    "import os"
   ]
  },
  {
   "cell_type": "markdown",
   "id": "8b6ebee6-d58e-40c4-a8cc-1933e70026ae",
   "metadata": {},
   "source": [
    "## 2. Importing the dataset"
   ]
  },
  {
   "cell_type": "code",
   "execution_count": 2,
   "id": "66083c38-d7d5-4566-896e-b76eacade55b",
   "metadata": {},
   "outputs": [
    {
     "name": "stderr",
     "output_type": "stream",
     "text": [
      "2023-11-29 10:57:29.640702: I tensorflow/tsl/cuda/cudart_stub.cc:28] Could not find cuda drivers on your machine, GPU will not be used.\n",
      "2023-11-29 10:57:29.673709: I tensorflow/tsl/cuda/cudart_stub.cc:28] Could not find cuda drivers on your machine, GPU will not be used.\n",
      "2023-11-29 10:57:29.674368: I tensorflow/core/platform/cpu_feature_guard.cc:182] This TensorFlow binary is optimized to use available CPU instructions in performance-critical operations.\n",
      "To enable the following instructions: AVX2 FMA, in other operations, rebuild TensorFlow with the appropriate compiler flags.\n",
      "2023-11-29 10:57:30.200432: W tensorflow/compiler/tf2tensorrt/utils/py_utils.cc:38] TF-TRT Warning: Could not find TensorRT\n"
     ]
    }
   ],
   "source": [
    "from tensorflow.keras.datasets import mnist"
   ]
  },
  {
   "cell_type": "code",
   "execution_count": 3,
   "id": "a643bb33-199c-4e44-8853-771faa02dafa",
   "metadata": {},
   "outputs": [
    {
     "name": "stdout",
     "output_type": "stream",
     "text": [
      "train_x shape :  (60000, 28, 28)\n",
      "train_y shape :  (60000,)\n",
      "test_x shape :  (10000, 28, 28)\n",
      "test_y shape :  (10000,)\n",
      "\n",
      "Image width : 28   |  Image height : 28\n"
     ]
    }
   ],
   "source": [
    "(train_x, train_y) , (test_x, test_y) = mnist.load_data()\n",
    "\n",
    "print(\"train_x shape : \", train_x.shape)\n",
    "print(\"train_y shape : \", train_y.shape)\n",
    "print(\"test_x shape : \", test_x.shape)\n",
    "print(\"test_y shape : \", test_y.shape)\n",
    "\n",
    "print()\n",
    "\n",
    "img_height , img_width = train_x[0].shape\n",
    "\n",
    "print(f\"Image width : {img_width}   |  Image height : {img_height}\")"
   ]
  },
  {
   "cell_type": "markdown",
   "id": "dc58a2f7-4dfa-439a-9f8f-a6365d68da8c",
   "metadata": {},
   "source": [
    "#### Displaying a picture from the dataset"
   ]
  },
  {
   "cell_type": "code",
   "execution_count": 4,
   "id": "7e231f5a-3a3e-48e5-be17-326c4dc4a2f6",
   "metadata": {},
   "outputs": [
    {
     "data": {
      "image/png": "[encoded data removed]",
      "text/plain": [
       "<Figure size 640x480 with 1 Axes>"
      ]
     },
     "metadata": {},
     "output_type": "display_data"
    }
   ],
   "source": [
    "plt.imshow(train_x[1], cmap=\"gray\")\n",
    "plt.title(f\"label: {train_y[1]}\")\n",
    "plt.show()"
   ]
  },
  {
   "cell_type": "markdown",
   "id": "575899bc-7d7c-4c7c-b6f6-0381a9e9a0ae",
   "metadata": {},
   "source": [
    "## 3. Function to put a picture from our dataset at a random position on an x by y background"
   ]
  },
  {
   "cell_type": "code",
   "execution_count": 5,
   "id": "ca97fd45-71e2-4c29-9da9-74f8b9eacc7c",
   "metadata": {},
   "outputs": [],
   "source": [
    "def put_at_random_position(img, h , w):               # (image , background height, background width)\n",
    "    img_w = img.shape[1]\n",
    "    img_h = img.shape[0]\n",
    "    \n",
    "    if img_w >= w or img_h >= h:\n",
    "        print(\"The background size should be bigger than the image size\")\n",
    "        return None\n",
    "        \n",
    "    else:        \n",
    "        # define a black background of size w by h           \n",
    "        background = np.zeros((h,w), dtype='uint8')                # since each pixel requires only 8 bits we use uint8 as dtype\n",
    "        \n",
    "        # generate random position for the image on the background\n",
    "        x = np.random.randint(0, w - img_w)\n",
    "        y = np.random.randint(0, h - img_h)\n",
    "\n",
    "        # paste the image on the background at the random positions we generated above\n",
    "        background[y : y+img_h , x : x+img_w ] = img\n",
    "\n",
    "        # # converting the background image to RGB scale\n",
    "        # c_background = cv2.cvtColor(background, cv2.COLOR_GRAY2RGB)\n",
    "\n",
    "        return background,x,y\n",
    "        "
   ]
  },
  {
   "cell_type": "markdown",
   "id": "f9f22c71-1bcc-43d0-9971-27f834864381",
   "metadata": {},
   "source": [
    "#### Calling the function on an image from our dataset"
   ]
  },
  {
   "cell_type": "code",
   "execution_count": 6,
   "id": "415ddb45-7d3f-49f4-b313-dea9e2f6260e",
   "metadata": {},
   "outputs": [
    {
     "data": {
      "text/plain": [
       "<matplotlib.image.AxesImage at 0x7f8218561b20>"
      ]
     },
     "execution_count": 6,
     "metadata": {},
     "output_type": "execute_result"
    },
    {
     "data": {
      "image/png": "[encoded data removed]",
      "text/plain": [
       "<Figure size 640x480 with 1 Axes>"
      ]
     },
     "metadata": {},
     "output_type": "display_data"
    }
   ],
   "source": [
    "pic,x,y = put_at_random_position(train_x[0] , 75, 75)\n",
    "\n",
    "plt.title(f\"x: {x}  |  y:  {y}\")\n",
    "plt.imshow(pic, cmap='gray')"
   ]
  },
  {
   "cell_type": "markdown",
   "id": "7688cf34-4980-4c84-8e99-e4fee7245461",
   "metadata": {},
   "source": [
    "## 4. Storing our train data as image above with its respective coordinates"
   ]
  },
  {
   "cell_type": "code",
   "execution_count": 8,
   "id": "fa9bc9b6-6fc3-47cc-8aad-053f0d3b1e47",
   "metadata": {},
   "outputs": [],
   "source": [
    "m = train_x.shape[0]\n",
    "\n",
    "for i in range(m):\n",
    "    \n",
    "    # randomly resizing our image between 10 * 10 and 28 * 28\n",
    "    resize_dim = np.random.randint(10,28)\n",
    "    resized = cv2.resize(train_x[i], (resize_dim,resize_dim), interpolation = cv2.INTER_AREA)\n",
    "    \n",
    "    generated_pic, x , y = put_at_random_position(resized, 75 , 75)\n",
    "\n",
    "    # saving the generated pciture\n",
    "    cv2.imwrite(f\"./dataset/train/images/{i}.png\", generated_pic)\n",
    "\n",
    "    # drawing the bound box around the picture\n",
    "    bbox = cv2.rectangle(generated_pic, (x,y), (x+resize_dim, y+resize_dim), (255,0,0) , 2)    # (pic , start , end , color, thickness)\n",
    "    # saving the generated picture along with the bounding box\n",
    "    cv2.imwrite(f\"./dataset/train/bboxes/{i}.png\", generated_pic)\n",
    "    \n",
    "    with open(f'./dataset/train/annotations/{i}.txt', 'w') as f:\n",
    "        f.write(f\"{train_y[i]} {x} {y} {x+resize_dim} {y+resize_dim}\\n\")   # class label , xmin , ymin , xmax, ymax\n",
    "    "
   ]
  },
  {
   "cell_type": "markdown",
   "id": "aef624d3-c791-4031-b0b8-ea74a9ac5307",
   "metadata": {},
   "source": [
    "## 5. Storing our test data as well"
   ]
  },
  {
   "cell_type": "code",
   "execution_count": 9,
   "id": "78658c17-5295-47dd-9a62-e1ccc60592ed",
   "metadata": {},
   "outputs": [],
   "source": [
    "m = test_x.shape[0]\n",
    "\n",
    "for i in range(m):\n",
    "\n",
    "    # randomly resizing our image between 10 * 10 and 28 * 28\n",
    "    resize_dim = np.random.randint(10,28)\n",
    "    resized = cv2.resize(test_x[i], (resize_dim,resize_dim), interpolation = cv2.INTER_AREA)\n",
    "    \n",
    "    generated_pic, x , y = put_at_random_position(resized, 75 , 75)\n",
    "    \n",
    "    # saving the generated pciture\n",
    "    cv2.imwrite(f\"./dataset/test/images/{i}.png\", generated_pic)\n",
    "  \n",
    "    # drawing the bound box around the picture\n",
    "    bbox = cv2.rectangle(generated_pic, (x,y), (x+resize_dim, y+resize_dim), (255,0,0) , 2)    # (pic , start , end , color, thickness)\n",
    "\n",
    "    # saving the generated picture along with the bounding box\n",
    "    cv2.imwrite(f\"./dataset/test/bboxes/{i}.png\", generated_pic)\n",
    "    \n",
    "    with open(f'./dataset/test/annotations/{i}.txt', 'w') as f:\n",
    "        f.write(f\"{test_y[i]} {x} {y} {x+resize_dim} {y+resize_dim}\\n\")   # class label , xmin , ymin , xmax, ymax\n",
    "                            "
   ]
  },
  {
   "cell_type": "code",
   "execution_count": null,
   "id": "1cacfc5f-e67b-4770-b5e6-dcd9dd04d995",
   "metadata": {},
   "outputs": [],
   "source": []
  }
 ],
 "metadata": {
  "kernelspec": {
   "display_name": "Python 3 (ipykernel)",
   "language": "python",
   "name": "python3"
  },
  "language_info": {
   "codemirror_mode": {
    "name": "ipython",
    "version": 3
   },
   "file_extension": ".py",
   "mimetype": "text/x-python",
   "name": "python",
   "nbconvert_exporter": "python",
   "pygments_lexer": "ipython3",
   "version": "3.8.10"
  }
 },
 "nbformat": 4,
 "nbformat_minor": 5
}
